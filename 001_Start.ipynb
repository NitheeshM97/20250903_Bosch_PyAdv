{
 "cells": [
  {
   "cell_type": "code",
   "execution_count": 1,
   "id": "f4208046",
   "metadata": {},
   "outputs": [],
   "source": [
    "a = 10\n",
    "b = 20"
   ]
  },
  {
   "cell_type": "code",
   "execution_count": 2,
   "id": "03c583e8",
   "metadata": {},
   "outputs": [
    {
     "data": {
      "text/plain": [
       "30"
      ]
     },
     "execution_count": 2,
     "metadata": {},
     "output_type": "execute_result"
    }
   ],
   "source": [
    "c = a + b\n",
    "c"
   ]
  },
  {
   "cell_type": "code",
   "execution_count": 3,
   "id": "43031579",
   "metadata": {},
   "outputs": [
    {
     "data": {
      "text/plain": [
       "40"
      ]
     },
     "execution_count": 3,
     "metadata": {},
     "output_type": "execute_result"
    }
   ],
   "source": [
    "_ + 10"
   ]
  },
  {
   "cell_type": "code",
   "execution_count": 4,
   "id": "9bb79cc1",
   "metadata": {},
   "outputs": [],
   "source": [
    "# int add(int a, int b)\n",
    "# { int sum = a + b;    if (a > 10)\n",
    "#     {printf(\"Greater\")}\n",
    "#     return sum;\n",
    "# }\n",
    "\n",
    "# As Guido intended/indented it\n",
    "\n",
    "def add(a:int, b: int) -> int:\n",
    "    sum = a + b\n",
    "    if a > 10:\n",
    "      print(a); print(b)\n",
    "      print(\"a is greater than 10\")\n",
    "    return sum\n"
   ]
  },
  {
   "cell_type": "code",
   "execution_count": 5,
   "id": "e5166ec1",
   "metadata": {},
   "outputs": [
    {
     "data": {
      "text/plain": [
       "3.0"
      ]
     },
     "execution_count": 5,
     "metadata": {},
     "output_type": "execute_result"
    }
   ],
   "source": [
    "import math\n",
    "math.sqrt(9)"
   ]
  },
  {
   "cell_type": "code",
   "execution_count": 6,
   "id": "f03773d8",
   "metadata": {},
   "outputs": [
    {
     "data": {
      "text/plain": [
       "9.0"
      ]
     },
     "execution_count": 6,
     "metadata": {},
     "output_type": "execute_result"
    }
   ],
   "source": [
    "math.sqrt(81)"
   ]
  },
  {
   "cell_type": "code",
   "execution_count": 7,
   "id": "d334b8b3",
   "metadata": {},
   "outputs": [
    {
     "data": {
      "text/plain": [
       "120"
      ]
     },
     "execution_count": 7,
     "metadata": {},
     "output_type": "execute_result"
    }
   ],
   "source": [
    "from math import factorial\n",
    "factorial(5)"
   ]
  },
  {
   "cell_type": "code",
   "execution_count": 8,
   "id": "c5cd684a",
   "metadata": {},
   "outputs": [
    {
     "data": {
      "text/plain": [
       "120"
      ]
     },
     "execution_count": 8,
     "metadata": {},
     "output_type": "execute_result"
    }
   ],
   "source": [
    "from math import factorial as fact\n",
    "fact(5)"
   ]
  },
  {
   "cell_type": "code",
   "execution_count": null,
   "id": "4a15ab3c",
   "metadata": {},
   "outputs": [
    {
     "name": "stdout",
     "output_type": "stream",
     "text": [
      "num is zero\n"
     ]
    }
   ],
   "source": [
    "num = 0\n",
    "\n",
    "if num != 0:        # Pythonic\n",
    "# if num:             # Un-Pythonic\n",
    "    print(\"num is non zero\")\n",
    "else:\n",
    "    print(\"num is zero\")\n"
   ]
  },
  {
   "cell_type": "markdown",
   "id": "ab1d76f7",
   "metadata": {},
   "source": [
    "### Scalar Types & Values\n",
    "* Bool\n",
    "* None\n",
    "* int\n",
    "* float\n",
    "    * Decimal\n",
    "    * Fraction\n",
    "* Complex"
   ]
  },
  {
   "cell_type": "code",
   "execution_count": 1,
   "id": "87f8d900",
   "metadata": {},
   "outputs": [
    {
     "name": "stdout",
     "output_type": "stream",
     "text": [
      "Help on class bool in module builtins:\n",
      "\n",
      "class bool(int)\n",
      " |  bool(x) -> bool\n",
      " |  \n",
      " |  Returns True when the argument x is true, False otherwise.\n",
      " |  The builtins True and False are the only two instances of the class bool.\n",
      " |  The class bool is a subclass of the class int, and cannot be subclassed.\n",
      " |  \n",
      " |  Method resolution order:\n",
      " |      bool\n",
      " |      int\n",
      " |      object\n",
      " |  \n",
      " |  Methods defined here:\n",
      " |  \n",
      " |  __and__(self, value, /)\n",
      " |      Return self&value.\n",
      " |  \n",
      " |  __or__(self, value, /)\n",
      " |      Return self|value.\n",
      " |  \n",
      " |  __rand__(self, value, /)\n",
      " |      Return value&self.\n",
      " |  \n",
      " |  __repr__(self, /)\n",
      " |      Return repr(self).\n",
      " |  \n",
      " |  __ror__(self, value, /)\n",
      " |      Return value|self.\n",
      " |  \n",
      " |  __rxor__(self, value, /)\n",
      " |      Return value^self.\n",
      " |  \n",
      " |  __xor__(self, value, /)\n",
      " |      Return self^value.\n",
      " |  \n",
      " |  ----------------------------------------------------------------------\n",
      " |  Static methods defined here:\n",
      " |  \n",
      " |  __new__(*args, **kwargs)\n",
      " |      Create and return a new object.  See help(type) for accurate signature.\n",
      " |  \n",
      " |  ----------------------------------------------------------------------\n",
      " |  Methods inherited from int:\n",
      " |  \n",
      " |  __abs__(self, /)\n",
      " |      abs(self)\n",
      " |  \n",
      " |  __add__(self, value, /)\n",
      " |      Return self+value.\n",
      " |  \n",
      " |  __bool__(self, /)\n",
      " |      True if self else False\n",
      " |  \n",
      " |  __ceil__(...)\n",
      " |      Ceiling of an Integral returns itself.\n",
      " |  \n",
      " |  __divmod__(self, value, /)\n",
      " |      Return divmod(self, value).\n",
      " |  \n",
      " |  __eq__(self, value, /)\n",
      " |      Return self==value.\n",
      " |  \n",
      " |  __float__(self, /)\n",
      " |      float(self)\n",
      " |  \n",
      " |  __floor__(...)\n",
      " |      Flooring an Integral returns itself.\n",
      " |  \n",
      " |  __floordiv__(self, value, /)\n",
      " |      Return self//value.\n",
      " |  \n",
      " |  __format__(self, format_spec, /)\n",
      " |      Default object formatter.\n",
      " |  \n",
      " |  __ge__(self, value, /)\n",
      " |      Return self>=value.\n",
      " |  \n",
      " |  __getattribute__(self, name, /)\n",
      " |      Return getattr(self, name).\n",
      " |  \n",
      " |  __getnewargs__(self, /)\n",
      " |  \n",
      " |  __gt__(self, value, /)\n",
      " |      Return self>value.\n",
      " |  \n",
      " |  __hash__(self, /)\n",
      " |      Return hash(self).\n",
      " |  \n",
      " |  __index__(self, /)\n",
      " |      Return self converted to an integer, if self is suitable for use as an index into a list.\n",
      " |  \n",
      " |  __int__(self, /)\n",
      " |      int(self)\n",
      " |  \n",
      " |  __invert__(self, /)\n",
      " |      ~self\n",
      " |  \n",
      " |  __le__(self, value, /)\n",
      " |      Return self<=value.\n",
      " |  \n",
      " |  __lshift__(self, value, /)\n",
      " |      Return self<<value.\n",
      " |  \n",
      " |  __lt__(self, value, /)\n",
      " |      Return self<value.\n",
      " |  \n",
      " |  __mod__(self, value, /)\n",
      " |      Return self%value.\n",
      " |  \n",
      " |  __mul__(self, value, /)\n",
      " |      Return self*value.\n",
      " |  \n",
      " |  __ne__(self, value, /)\n",
      " |      Return self!=value.\n",
      " |  \n",
      " |  __neg__(self, /)\n",
      " |      -self\n",
      " |  \n",
      " |  __pos__(self, /)\n",
      " |      +self\n",
      " |  \n",
      " |  __pow__(self, value, mod=None, /)\n",
      " |      Return pow(self, value, mod).\n",
      " |  \n",
      " |  __radd__(self, value, /)\n",
      " |      Return value+self.\n",
      " |  \n",
      " |  __rdivmod__(self, value, /)\n",
      " |      Return divmod(value, self).\n",
      " |  \n",
      " |  __rfloordiv__(self, value, /)\n",
      " |      Return value//self.\n",
      " |  \n",
      " |  __rlshift__(self, value, /)\n",
      " |      Return value<<self.\n",
      " |  \n",
      " |  __rmod__(self, value, /)\n",
      " |      Return value%self.\n",
      " |  \n",
      " |  __rmul__(self, value, /)\n",
      " |      Return value*self.\n",
      " |  \n",
      " |  __round__(...)\n",
      " |      Rounding an Integral returns itself.\n",
      " |      \n",
      " |      Rounding with an ndigits argument also returns an integer.\n",
      " |  \n",
      " |  __rpow__(self, value, mod=None, /)\n",
      " |      Return pow(value, self, mod).\n",
      " |  \n",
      " |  __rrshift__(self, value, /)\n",
      " |      Return value>>self.\n",
      " |  \n",
      " |  __rshift__(self, value, /)\n",
      " |      Return self>>value.\n",
      " |  \n",
      " |  __rsub__(self, value, /)\n",
      " |      Return value-self.\n",
      " |  \n",
      " |  __rtruediv__(self, value, /)\n",
      " |      Return value/self.\n",
      " |  \n",
      " |  __sizeof__(self, /)\n",
      " |      Returns size in memory, in bytes.\n",
      " |  \n",
      " |  __sub__(self, value, /)\n",
      " |      Return self-value.\n",
      " |  \n",
      " |  __truediv__(self, value, /)\n",
      " |      Return self/value.\n",
      " |  \n",
      " |  __trunc__(...)\n",
      " |      Truncating an Integral returns itself.\n",
      " |  \n",
      " |  as_integer_ratio(self, /)\n",
      " |      Return integer ratio.\n",
      " |      \n",
      " |      Return a pair of integers, whose ratio is exactly equal to the original int\n",
      " |      and with a positive denominator.\n",
      " |      \n",
      " |      >>> (10).as_integer_ratio()\n",
      " |      (10, 1)\n",
      " |      >>> (-10).as_integer_ratio()\n",
      " |      (-10, 1)\n",
      " |      >>> (0).as_integer_ratio()\n",
      " |      (0, 1)\n",
      " |  \n",
      " |  bit_count(self, /)\n",
      " |      Number of ones in the binary representation of the absolute value of self.\n",
      " |      \n",
      " |      Also known as the population count.\n",
      " |      \n",
      " |      >>> bin(13)\n",
      " |      '0b1101'\n",
      " |      >>> (13).bit_count()\n",
      " |      3\n",
      " |  \n",
      " |  bit_length(self, /)\n",
      " |      Number of bits necessary to represent self in binary.\n",
      " |      \n",
      " |      >>> bin(37)\n",
      " |      '0b100101'\n",
      " |      >>> (37).bit_length()\n",
      " |      6\n",
      " |  \n",
      " |  conjugate(...)\n",
      " |      Returns self, the complex conjugate of any int.\n",
      " |  \n",
      " |  to_bytes(self, /, length=1, byteorder='big', *, signed=False)\n",
      " |      Return an array of bytes representing an integer.\n",
      " |      \n",
      " |      length\n",
      " |        Length of bytes object to use.  An OverflowError is raised if the\n",
      " |        integer is not representable with the given number of bytes.  Default\n",
      " |        is length 1.\n",
      " |      byteorder\n",
      " |        The byte order used to represent the integer.  If byteorder is 'big',\n",
      " |        the most significant byte is at the beginning of the byte array.  If\n",
      " |        byteorder is 'little', the most significant byte is at the end of the\n",
      " |        byte array.  To request the native byte order of the host system, use\n",
      " |        `sys.byteorder' as the byte order value.  Default is to use 'big'.\n",
      " |      signed\n",
      " |        Determines whether two's complement is used to represent the integer.\n",
      " |        If signed is False and a negative integer is given, an OverflowError\n",
      " |        is raised.\n",
      " |  \n",
      " |  ----------------------------------------------------------------------\n",
      " |  Class methods inherited from int:\n",
      " |  \n",
      " |  from_bytes(bytes, byteorder='big', *, signed=False)\n",
      " |      Return the integer represented by the given array of bytes.\n",
      " |      \n",
      " |      bytes\n",
      " |        Holds the array of bytes to convert.  The argument must either\n",
      " |        support the buffer protocol or be an iterable object producing bytes.\n",
      " |        Bytes and bytearray are examples of built-in objects that support the\n",
      " |        buffer protocol.\n",
      " |      byteorder\n",
      " |        The byte order used to represent the integer.  If byteorder is 'big',\n",
      " |        the most significant byte is at the beginning of the byte array.  If\n",
      " |        byteorder is 'little', the most significant byte is at the end of the\n",
      " |        byte array.  To request the native byte order of the host system, use\n",
      " |        `sys.byteorder' as the byte order value.  Default is to use 'big'.\n",
      " |      signed\n",
      " |        Indicates whether two's complement is used to represent the integer.\n",
      " |  \n",
      " |  ----------------------------------------------------------------------\n",
      " |  Data descriptors inherited from int:\n",
      " |  \n",
      " |  denominator\n",
      " |      the denominator of a rational number in lowest terms\n",
      " |  \n",
      " |  imag\n",
      " |      the imaginary part of a complex number\n",
      " |  \n",
      " |  numerator\n",
      " |      the numerator of a rational number in lowest terms\n",
      " |  \n",
      " |  real\n",
      " |      the real part of a complex number\n",
      "\n"
     ]
    }
   ],
   "source": [
    "# BOOL\n",
    "\n",
    "help(bool)"
   ]
  },
  {
   "cell_type": "code",
   "execution_count": 2,
   "id": "9a0c2dbb",
   "metadata": {},
   "outputs": [
    {
     "data": {
      "text/plain": [
       "False"
      ]
     },
     "execution_count": 2,
     "metadata": {},
     "output_type": "execute_result"
    }
   ],
   "source": [
    "is_valid = bool()\n",
    "is_valid"
   ]
  },
  {
   "cell_type": "code",
   "execution_count": 24,
   "id": "f81b7d1d",
   "metadata": {},
   "outputs": [
    {
     "name": "stdout",
     "output_type": "stream",
     "text": [
      "False\n",
      "Non-zero\n",
      "False\n",
      "False\n",
      "True\n",
      "False\n",
      "True\n",
      "True\n",
      "True\n",
      "Empty\n",
      "True\n",
      "False\n",
      "True\n"
     ]
    }
   ],
   "source": [
    "print(bool(0))\n",
    "\n",
    "num = 10\n",
    "\n",
    "# if num:\n",
    "if bool(num):\n",
    "    print(\"Non-zero\")\n",
    "else:\n",
    "    print(\"Zero\")\n",
    "\n",
    "print(bool(0.0))\n",
    "print(bool(\"\"))\n",
    "print(bool(\"Test\"))\n",
    "print(bool([]))\n",
    "\n",
    "print(bool(0.025))\n",
    "print(bool(-1))\n",
    "print(bool([0, 0]))\n",
    "\n",
    "lst1 = []\n",
    "if len(lst1) != 0:\n",
    "    print(\"Not empty\")\n",
    "else:\n",
    "    print(\"Empty\")\n",
    "\n",
    "print(bool(True))\n",
    "print(bool(False))\n",
    "print(bool('False'))\n"
   ]
  },
  {
   "cell_type": "code",
   "execution_count": 29,
   "id": "d18aa96c",
   "metadata": {},
   "outputs": [
    {
     "name": "stdout",
     "output_type": "stream",
     "text": [
      "Help on NoneType object:\n",
      "\n",
      "class NoneType(object)\n",
      " |  Methods defined here:\n",
      " |  \n",
      " |  __bool__(self, /)\n",
      " |      True if self else False\n",
      " |  \n",
      " |  __repr__(self, /)\n",
      " |      Return repr(self).\n",
      " |  \n",
      " |  ----------------------------------------------------------------------\n",
      " |  Static methods defined here:\n",
      " |  \n",
      " |  __new__(*args, **kwargs)\n",
      " |      Create and return a new object.  See help(type) for accurate signature.\n",
      "\n"
     ]
    }
   ],
   "source": [
    "# None\n",
    "help(None)\n",
    "# help(object)"
   ]
  },
  {
   "cell_type": "code",
   "execution_count": 28,
   "id": "1a9f850f",
   "metadata": {},
   "outputs": [
    {
     "data": {
      "text/plain": [
       "True"
      ]
     },
     "execution_count": 28,
     "metadata": {},
     "output_type": "execute_result"
    }
   ],
   "source": [
    "a = None\n",
    "bool(a)  # a.__bool__()\n",
    "\n",
    "a is None"
   ]
  },
  {
   "cell_type": "code",
   "execution_count": 32,
   "id": "4fb6dabe",
   "metadata": {},
   "outputs": [
    {
     "data": {
      "text/plain": [
       "93326215443944152681699238856266700490715968264381621468592963895217599993229915608941463976156518286253697920827223758251185210916864000000000000000000000000"
      ]
     },
     "execution_count": 32,
     "metadata": {},
     "output_type": "execute_result"
    }
   ],
   "source": [
    "# Integers (int)\n",
    "# Size of an integer -- Arbitrary (Not fixed; depends on the system rsources available to the the process)\n",
    "\n",
    "from math import factorial as fact\n",
    "fact(5)\n",
    "fact(20)\n",
    "fact(100)"
   ]
  },
  {
   "cell_type": "code",
   "execution_count": 34,
   "id": "ba65c359",
   "metadata": {},
   "outputs": [
    {
     "data": {
      "text/plain": [
       "(2.5, 2)"
      ]
     },
     "execution_count": 34,
     "metadata": {},
     "output_type": "execute_result"
    }
   ],
   "source": [
    "5/2, 5//2"
   ]
  },
  {
   "cell_type": "code",
   "execution_count": 41,
   "id": "8d68b543",
   "metadata": {},
   "outputs": [
    {
     "data": {
      "text/plain": [
       "(10000, 81)"
      ]
     },
     "execution_count": 41,
     "metadata": {},
     "output_type": "execute_result"
    }
   ],
   "source": [
    "# Integer and Decimal\n",
    "# Integer and Binary\n",
    "a = 10\n",
    "bin(a), hex(a), int(0xa), oct(a)\n",
    "\n",
    "val = \"10000\"\n",
    "int(val), int(val, 3)"
   ]
  },
  {
   "cell_type": "code",
   "execution_count": 42,
   "id": "849025b7",
   "metadata": {},
   "outputs": [
    {
     "data": {
      "text/plain": [
       "0.00327"
      ]
     },
     "execution_count": 42,
     "metadata": {},
     "output_type": "execute_result"
    }
   ],
   "source": [
    "# Floats\n",
    "num  = 3.27e-3\n",
    "num"
   ]
  },
  {
   "cell_type": "code",
   "execution_count": 47,
   "id": "e8eebcb4",
   "metadata": {},
   "outputs": [
    {
     "data": {
      "text/plain": [
       "1.616e-35"
      ]
     },
     "execution_count": 47,
     "metadata": {},
     "output_type": "execute_result"
    }
   ],
   "source": [
    "# Plank's Constant\n",
    "p_const = 1.616e-35\n",
    "p_const"
   ]
  },
  {
   "cell_type": "code",
   "execution_count": 48,
   "id": "da17f755",
   "metadata": {},
   "outputs": [
    {
     "data": {
      "text/plain": [
       "300000.0"
      ]
     },
     "execution_count": 48,
     "metadata": {},
     "output_type": "execute_result"
    }
   ],
   "source": [
    "3e5"
   ]
  },
  {
   "cell_type": "code",
   "execution_count": 49,
   "id": "8ae635f7",
   "metadata": {},
   "outputs": [
    {
     "data": {
      "text/plain": [
       "sys.float_info(max=1.7976931348623157e+308, max_exp=1024, max_10_exp=308, min=2.2250738585072014e-308, min_exp=-1021, min_10_exp=-307, dig=15, mant_dig=53, epsilon=2.220446049250313e-16, radix=2, rounds=1)"
      ]
     },
     "execution_count": 49,
     "metadata": {},
     "output_type": "execute_result"
    }
   ],
   "source": [
    "import sys\n",
    "sys.float_info"
   ]
  },
  {
   "cell_type": "code",
   "execution_count": 50,
   "id": "3525dfe5",
   "metadata": {},
   "outputs": [
    {
     "data": {
      "text/plain": [
       "9007199254740992"
      ]
     },
     "execution_count": 50,
     "metadata": {},
     "output_type": "execute_result"
    }
   ],
   "source": [
    "2**53"
   ]
  },
  {
   "cell_type": "code",
   "execution_count": 57,
   "id": "4f92dde5",
   "metadata": {},
   "outputs": [
    {
     "data": {
      "text/plain": [
       "(7.0, 1.618, nan, inf, -inf, True)"
      ]
     },
     "execution_count": 57,
     "metadata": {},
     "output_type": "execute_result"
    }
   ],
   "source": [
    "float(7), float(\"1.618\"), float(\"nan\"), float(\"inf\"), float(\"-inf\"), -12567 > float(\"-inf\")"
   ]
  },
  {
   "cell_type": "code",
   "execution_count": 68,
   "id": "e5ab0e8f",
   "metadata": {},
   "outputs": [
    {
     "name": "stdout",
     "output_type": "stream",
     "text": [
      "<class 'float'>\n",
      "1887812220848\n",
      "1887812222576\n",
      "140713788601416\n",
      "140713788601416\n",
      "140713788601416\n",
      "140713788601448\n",
      "140713788605032 123\n",
      "140713788605352 133\n"
     ]
    }
   ],
   "source": [
    "val = 6.0 + 2\n",
    "print(type(val))\n",
    "print(id(val))\n",
    "\n",
    "data = 8.0\n",
    "print(id(data))\n",
    "\n",
    "#----------------------------\n",
    "\n",
    "\n",
    "i1 = 8+2\n",
    "i2 = 10\n",
    "print(id(i1))\n",
    "print(id(i2))\n",
    "\n",
    "i2 += 1\n",
    "print(id(i1))\n",
    "print(id(i2))\n",
    "\n",
    "num = 123\n",
    "print(id(num), num)\n",
    "num += 10\n",
    "print(id(num), num)"
   ]
  },
  {
   "cell_type": "code",
   "execution_count": 75,
   "id": "24bf2bea",
   "metadata": {},
   "outputs": [
    {
     "name": "stdout",
     "output_type": "stream",
     "text": [
      "<class 'float'>\n",
      "9007199254740992.0\n",
      "9007199254740992.0\n",
      "9007199254740994.0\n",
      "9007199254740996.0\n",
      "9007199254740996.0\n",
      "9007199254740996.0\n",
      "9007199254740998.0\n"
     ]
    }
   ],
   "source": [
    "num = float(2**53)\n",
    "print(type(num))\n",
    "\n",
    "print(float(2**53))\n",
    "print(float(2**53 + 1))\n",
    "print(float(2**53 + 2))\n",
    "print(float(2**53 + 3))\n",
    "print(float(2**53 + 4))\n",
    "print(float(2**53 + 5))\n",
    "print(float(2**53 + 6))"
   ]
  },
  {
   "cell_type": "code",
   "execution_count": 77,
   "id": "a67d2ec1",
   "metadata": {},
   "outputs": [
    {
     "name": "stdout",
     "output_type": "stream",
     "text": [
      "Unexpected\n",
      "0.10000000000000009\n"
     ]
    }
   ],
   "source": [
    "val = 0.8 - 0.7\n",
    "\n",
    "if val == 0.1:\n",
    "    print(\"Expected\")\n",
    "else:\n",
    "    print(\"Unexpected\")\n",
    "\n",
    "print(val)"
   ]
  },
  {
   "cell_type": "code",
   "execution_count": 80,
   "id": "7b6a355d",
   "metadata": {},
   "outputs": [
    {
     "name": "stdout",
     "output_type": "stream",
     "text": [
      "Expected\n",
      "<class 'decimal.Decimal'> 0.1\n"
     ]
    }
   ],
   "source": [
    "# Decimal Type\n",
    "\n",
    "from decimal import Decimal\n",
    "\n",
    "val = Decimal('0.8') - Decimal('0.7')\n",
    "\n",
    "if val == Decimal('0.1'):\n",
    "    print(\"Expected\")\n",
    "else:\n",
    "    print(\"Unexpected\")\n",
    "\n",
    "print(type(val), val)"
   ]
  },
  {
   "cell_type": "code",
   "execution_count": 83,
   "id": "c3dcecc5",
   "metadata": {},
   "outputs": [
    {
     "name": "stdout",
     "output_type": "stream",
     "text": [
      "<class 'float'> 1.0\n",
      "True\n",
      "True\n",
      "<class 'float'> 1.0\n",
      "True\n",
      "True\n"
     ]
    }
   ],
   "source": [
    "def isOdd1(num):\n",
    "    return num%2 == 1\n",
    "\n",
    "def isOdd2(num):\n",
    "    return num%2 != 0\n",
    "\n",
    "fl = float(\"-3\")\n",
    "remaining = fl%2\n",
    "print(type(remaining), remaining)\n",
    "\n",
    "print(isOdd1(fl))\n",
    "print(isOdd2(fl))\n",
    "\n",
    "from decimal import Decimal\n",
    "\n",
    "dc = float(\"-3\")\n",
    "remaining = dc%2\n",
    "print(type(remaining), remaining)\n",
    "\n",
    "print(isOdd1(dc))\n",
    "print(isOdd2(dc))\n"
   ]
  },
  {
   "cell_type": "code",
   "execution_count": 88,
   "id": "d065e0e5",
   "metadata": {},
   "outputs": [
    {
     "name": "stdout",
     "output_type": "stream",
     "text": [
      "Context(prec=100, rounding=ROUND_HALF_EVEN, Emin=-999999, Emax=999999, capitals=1, clamp=0, flags=[Inexact, FloatOperation, Rounded], traps=[InvalidOperation, DivisionByZero, Overflow])\n",
      "100\n",
      "ROUND_HALF_EVEN\n",
      "3.142857142857142857142857143\n",
      "3.142857142857142857142857142857142857142857142857142857142857142857142857142857142857142857142857143\n"
     ]
    }
   ],
   "source": [
    "import decimal\n",
    "from decimal import Decimal\n",
    "\n",
    "print(decimal.getcontext())\n",
    "print(decimal.getcontext().prec)\n",
    "print(decimal.getcontext().rounding)\n",
    "\n",
    "decimal.getcontext().prec = 28\n",
    "pi = Decimal('22')/Decimal('7')\n",
    "print(pi)\n",
    "decimal.getcontext().prec = 100\n",
    "pi = Decimal('22')/Decimal('7')\n",
    "print(pi)"
   ]
  },
  {
   "cell_type": "code",
   "execution_count": 96,
   "id": "f26dcf23",
   "metadata": {},
   "outputs": [
    {
     "name": "stdout",
     "output_type": "stream",
     "text": [
      "1.12345\n"
     ]
    }
   ],
   "source": [
    "import decimal\n",
    "from decimal import Decimal\n",
    "decimal.getcontext().prec = 6\n",
    "num = 1 * Decimal('1.123446')\n",
    "print(num)\n",
    "\n"
   ]
  },
  {
   "cell_type": "code",
   "execution_count": null,
   "id": "c7e9acaa",
   "metadata": {},
   "outputs": [
    {
     "name": "stdout",
     "output_type": "stream",
     "text": [
      "5\n",
      "6\n",
      "-6\n",
      "-5\n",
      "5\n",
      "-5\n"
     ]
    }
   ],
   "source": [
    "import math\n",
    "\n",
    "# Reference points are inf & -inf\n",
    "print(math.floor(5.2))\n",
    "print(math.ceil(5.2))\n",
    "\n",
    "print(math.floor(-5.2))\n",
    "print(math.ceil(-5.2))\n",
    "\n",
    "# REference point is 0\n",
    "print(math.trunc(5.2))      # math.floor() equivalent\n",
    "print(math.trunc(-5.2))     # math.ceil() equivalent\n",
    "\n",
    "\n",
    "\n",
    "# import decimal\n",
    "\n",
    "# decimal.ROU"
   ]
  },
  {
   "cell_type": "code",
   "execution_count": 102,
   "id": "f8372f02",
   "metadata": {},
   "outputs": [
    {
     "data": {
      "text/plain": [
       "(5, -5, 6, -6)"
      ]
     },
     "execution_count": 102,
     "metadata": {},
     "output_type": "execute_result"
    }
   ],
   "source": [
    "round(5.2), round (-5.2), round(5.6), round (-5.6)"
   ]
  },
  {
   "cell_type": "code",
   "execution_count": 105,
   "id": "0c9ca2d8",
   "metadata": {},
   "outputs": [
    {
     "name": "stdout",
     "output_type": "stream",
     "text": [
      "round(2.675, 2, ROUND_CEILING) --> 2.68\n",
      "round(2.675, 2, ROUND_FLOOR) --> 2.67\n",
      "round(2.675, 2, ROUND_UP) --> 2.68\n",
      "round(2.675, 2, ROUND_DOWN) --> 2.67\n",
      "round(2.675, 2, ROUND_HALF_DOWN) --> 2.67\n",
      "round(2.675, 2, ROUND_HALF_EVEN) --> 2.68\n",
      "round(2.675, 2, ROUND_HALF_UP) --> 2.68\n",
      "round(2.675, 2, ROUND_05UP) --> 2.67\n"
     ]
    }
   ],
   "source": [
    "import decimal\n",
    "\n",
    "def round_it(x, ndigits, strategy=decimal.ROUND_HALF_UP):\n",
    "    decimal.getcontext().rounding = strategy\n",
    "\n",
    "    # rounded = round(x, ndigits)\n",
    "    \n",
    "    dec_val = decimal.Decimal(str(x))\n",
    "    rounded = dec_val.quantize(decimal.Decimal(f'1e-{ndigits}'))\n",
    "    \n",
    "    print(f\"round({x}, {ndigits}, {strategy}) --> {rounded}\")\n",
    "\n",
    "\n",
    "x =  decimal.Decimal('2.675')\n",
    "\n",
    "round_it(x, ndigits=2, strategy=decimal.ROUND_CEILING)\n",
    "round_it(x, ndigits=2, strategy=decimal.ROUND_FLOOR)\n",
    "round_it(x, ndigits=2, strategy=decimal.ROUND_UP)\n",
    "round_it(x, ndigits=2, strategy=decimal.ROUND_DOWN)\n",
    "round_it(x, ndigits=2, strategy=decimal.ROUND_HALF_DOWN)\n",
    "round_it(x, ndigits=2, strategy=decimal.ROUND_HALF_EVEN)\n",
    "round_it(x, ndigits=2, strategy=decimal.ROUND_HALF_UP)\n",
    "round_it(x, ndigits=2, strategy=decimal.ROUND_05UP)"
   ]
  },
  {
   "cell_type": "code",
   "execution_count": 110,
   "id": "89bbdae5",
   "metadata": {},
   "outputs": [
    {
     "name": "stdout",
     "output_type": "stream",
     "text": [
      "3.142857142857143\n",
      "44.0\n"
     ]
    }
   ],
   "source": [
    "PI = float(22/7)\n",
    "rad = 7\n",
    "perimeter = 2 * PI * rad\n",
    "perimeter = 2 * 3.142857142857143 * 7\n",
    "\n",
    "print(PI)\n",
    "print(perimeter)"
   ]
  },
  {
   "cell_type": "code",
   "execution_count": 114,
   "id": "1a31cab4",
   "metadata": {},
   "outputs": [
    {
     "name": "stdout",
     "output_type": "stream",
     "text": [
      "2/3\n"
     ]
    },
    {
     "data": {
      "text/plain": [
       "Fraction(1837, 25000)"
      ]
     },
     "execution_count": 114,
     "metadata": {},
     "output_type": "execute_result"
    }
   ],
   "source": [
    "from fractions import Fraction\n",
    "\n",
    "two_third = Fraction(2, 3)\n",
    "print(two_third)\n",
    "\n",
    "\n",
    "Fraction('0.1')\n",
    "\n",
    "\n",
    "Fraction('0.07348')"
   ]
  },
  {
   "cell_type": "code",
   "execution_count": 122,
   "id": "020ded65",
   "metadata": {},
   "outputs": [
    {
     "name": "stdout",
     "output_type": "stream",
     "text": [
      "<class 'complex'>\n",
      "<class 'complex'> (2+3j)\n",
      "2.0 3.0\n",
      "(2-3j)\n",
      "(13+0j)\n"
     ]
    }
   ],
   "source": [
    "# Complex Number\n",
    "\n",
    "num  = 5 + 3j\n",
    "print(type(num))\n",
    "\n",
    "num = -1\n",
    "import cmath\n",
    "cmath.sqrt(num)\n",
    "\n",
    "num = 1j\n",
    "num ** 2\n",
    "\n",
    "\n",
    "num  = complex(2, 3)\n",
    "print(type(num), num)\n",
    "\n",
    "print(num.real, num.imag)\n",
    "\n",
    "\n",
    "print(num.conjugate())\n",
    "\n",
    "print(num * num.conjugate())"
   ]
  },
  {
   "cell_type": "code",
   "execution_count": 129,
   "id": "5b322b83",
   "metadata": {},
   "outputs": [
    {
     "name": "stdout",
     "output_type": "stream",
     "text": [
      "Test Test\n",
      "1887812933232 1887812943728\n"
     ]
    },
    {
     "data": {
      "text/plain": [
       "False"
      ]
     },
     "execution_count": 129,
     "metadata": {},
     "output_type": "execute_result"
    }
   ],
   "source": [
    "a = \"Test\"\n",
    "b = \"Te\"\n",
    "c = \"st\"\n",
    "d = b + c\n",
    "\n",
    "print(a, d)\n",
    "print(id(a), id(d))\n",
    "\n",
    "a == d\n",
    "id(a) == id(d)"
   ]
  }
 ],
 "metadata": {
  "kernelspec": {
   "display_name": "Python 3",
   "language": "python",
   "name": "python3"
  },
  "language_info": {
   "codemirror_mode": {
    "name": "ipython",
    "version": 3
   },
   "file_extension": ".py",
   "mimetype": "text/x-python",
   "name": "python",
   "nbconvert_exporter": "python",
   "pygments_lexer": "ipython3",
   "version": "3.11.9"
  }
 },
 "nbformat": 4,
 "nbformat_minor": 5
}
